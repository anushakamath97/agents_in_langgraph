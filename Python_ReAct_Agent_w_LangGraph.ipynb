{
  "nbformat": 4,
  "nbformat_minor": 0,
  "metadata": {
    "colab": {
      "provenance": []
    },
    "kernelspec": {
      "name": "python3",
      "display_name": "Python 3"
    },
    "language_info": {
      "name": "python"
    }
  },
  "cells": [
    {
      "cell_type": "code",
      "source": [
        "!pip install --upgrade --quiet pip\n",
        "!pip install --quiet python-dotenv\n",
        "!pip install --quiet langchain langgraph langchain_community\n",
        "!pip install --quiet transformers mistralai langchain_mistralai"
      ],
      "metadata": {
        "id": "xjS0Kqzreewg"
      },
      "execution_count": null,
      "outputs": []
    },
    {
      "cell_type": "code",
      "execution_count": 2,
      "metadata": {
        "id": "WhOCgOuKcH4W"
      },
      "outputs": [],
      "source": [
        "from dotenv import load_dotenv, find_dotenv\n",
        "_ = load_dotenv(find_dotenv())"
      ]
    },
    {
      "cell_type": "code",
      "source": [
        "from langgraph.graph import StateGraph, END\n",
        "from typing import TypedDict, Annotated\n",
        "from langchain_core.messages import AnyMessage, SystemMessage, HumanMessage, ToolMessage\n",
        "from langchain_community.tools.tavily_search import TavilySearchResults\n",
        "from mistralai import Mistral\n",
        "from langchain_mistralai.chat_models import ChatMistralAI\n",
        "\n",
        "import operator\n",
        "import os"
      ],
      "metadata": {
        "id": "0Yfa3613dwYu"
      },
      "execution_count": 18,
      "outputs": []
    },
    {
      "cell_type": "code",
      "source": [
        "tool = TavilySearchResults(max_results=2)\n",
        "print(type(tool))\n",
        "print(tool.name)"
      ],
      "metadata": {
        "colab": {
          "base_uri": "https://localhost:8080/"
        },
        "id": "OieCq1-EqWf1",
        "outputId": "55e9fcbc-c809-4e8c-b049-20b899d26570"
      },
      "execution_count": 9,
      "outputs": [
        {
          "output_type": "stream",
          "name": "stdout",
          "text": [
            "<class 'langchain_community.tools.tavily_search.tool.TavilySearchResults'>\n",
            "tavily_search_results_json\n"
          ]
        }
      ]
    },
    {
      "cell_type": "code",
      "source": [
        "class AgentState(TypedDict):\n",
        "  messages: Annotated[list[AnyMessage], operator.add]"
      ],
      "metadata": {
        "id": "xIX-XWTprhon"
      },
      "execution_count": 4,
      "outputs": []
    },
    {
      "cell_type": "code",
      "source": [
        "class Agent:\n",
        "  def __init__(self, model, tools, system=\"\"):\n",
        "    self.system = system\n",
        "    graph = StateGraph(AgentState)\n",
        "    graph.add_node(\"llm\", self.call_mistral)\n",
        "    graph.add_node(\"action\", self.take_action)\n",
        "    graph.add_conditional_edges(\n",
        "        \"llm\",\n",
        "        self.exists_action,\n",
        "        {True: \"action\", False: END})\n",
        "    graph.add_edge(\"action\", \"llm\")\n",
        "    graph.set_entry_point(\"llm\")\n",
        "    self.graph = graph.compile()\n",
        "    self.tools = {tool.name: tool for tool in tools}\n",
        "    self.model = model.bind_tools(tools)\n",
        "\n",
        "  def call_mistral(self, state: AgentState):\n",
        "    messages = state['messages']\n",
        "    if self.system:\n",
        "      messages = [SystemMessage(content=self.system)] + messages\n",
        "    message = self.model.invoke(messages)\n",
        "    return {'messages': [message]}\n",
        "\n",
        "  def take_action(self, state: AgentState):\n",
        "    tool_calls = state['messages'][-1].tool_calls\n",
        "    results = []\n",
        "    for t in tool_calls:\n",
        "      print(f\"Calling: {t}\")\n",
        "      result = self.tools[t['name']].invoke(t['args'])\n",
        "      results.append(ToolMessage(tool_call_id=t['id'], name=t['name'], content=str(result)))\n",
        "    print(\"Back to model!\")\n",
        "    return {'messages': results}\n",
        "\n",
        "  def exists_action(self, state: AgentState):\n",
        "    return len(state['messages'][-1].tool_calls) > 0\n"
      ],
      "metadata": {
        "id": "v54x-Mccrz8e"
      },
      "execution_count": 30,
      "outputs": []
    },
    {
      "cell_type": "code",
      "source": [
        "# save MISTRAL_API_KEY in .env file\n",
        "api_key = os.getenv(\"MISTRAL_API_KEY\")\n",
        "model = ChatMistralAI(model=\"mistral-large-latest\", api_key=api_key)"
      ],
      "metadata": {
        "id": "9TEm9QB1nPZ7"
      },
      "execution_count": 19,
      "outputs": []
    },
    {
      "cell_type": "code",
      "source": [
        "prompt = \"\"\"You are a smart research assistant. Use the search engine to look up information. \\\n",
        "You are allowed to make multiple calls (either together or in sequence). \\\n",
        "Only look up information when you are sure of what you want. \\\n",
        "If you need to look up some information before asking a follow up question, you are allowed to do that!\n",
        "\"\"\"\n",
        "abot = Agent(model, [tool], system=prompt)"
      ],
      "metadata": {
        "id": "Exwy7cuTnme7"
      },
      "execution_count": 31,
      "outputs": []
    },
    {
      "cell_type": "code",
      "source": [
        "messages = [HumanMessage(content=\"What is the weather in sf?\")]\n",
        "result = abot.graph.invoke({\"messages\": messages})"
      ],
      "metadata": {
        "colab": {
          "base_uri": "https://localhost:8080/"
        },
        "id": "TdWO9NiOrG1N",
        "outputId": "9de7d8f4-3f88-4df5-de0a-9a3a9e0b35aa"
      },
      "execution_count": 32,
      "outputs": [
        {
          "output_type": "stream",
          "name": "stdout",
          "text": [
            "Calling: {'name': 'tavily_search_results_json', 'args': {'query': 'weather in sf'}, 'id': 'hvwiJspLY', 'type': 'tool_call'}\n",
            "Back to model!\n"
          ]
        }
      ]
    },
    {
      "cell_type": "code",
      "source": [
        "result"
      ],
      "metadata": {
        "colab": {
          "base_uri": "https://localhost:8080/"
        },
        "id": "Pm4NoodZrpuS",
        "outputId": "814cd8d9-b791-4a19-93ab-ed7b6d0e31f9"
      },
      "execution_count": 33,
      "outputs": [
        {
          "output_type": "execute_result",
          "data": {
            "text/plain": [
              "{'messages': [HumanMessage(content='What is the weather in sf?', additional_kwargs={}, response_metadata={}),\n",
              "  AIMessage(content='', additional_kwargs={'tool_calls': [{'id': 'hvwiJspLY', 'function': {'name': 'tavily_search_results_json', 'arguments': '{\"query\": \"weather in sf\"}'}, 'index': 0}]}, response_metadata={'token_usage': {'prompt_tokens': 182, 'total_tokens': 212, 'completion_tokens': 30}, 'model': 'mistral-large-latest', 'finish_reason': 'tool_calls'}, id='run-b7765b57-f24a-46da-8de5-fa4e5566ef61-0', tool_calls=[{'name': 'tavily_search_results_json', 'args': {'query': 'weather in sf'}, 'id': 'hvwiJspLY', 'type': 'tool_call'}], usage_metadata={'input_tokens': 182, 'output_tokens': 30, 'total_tokens': 212}),\n",
              "  ToolMessage(content='[{\\'url\\': \\'https://www.weatherapi.com/\\', \\'content\\': \"{\\'location\\': {\\'name\\': \\'San Francisco\\', \\'region\\': \\'California\\', \\'country\\': \\'United States of America\\', \\'lat\\': 37.775, \\'lon\\': -122.4183, \\'tz_id\\': \\'America/Los_Angeles\\', \\'localtime_epoch\\': 1738634597, \\'localtime\\': \\'2025-02-03 18:03\\'}, \\'current\\': {\\'last_updated_epoch\\': 1738634400, \\'last_updated\\': \\'2025-02-03 18:00\\', \\'temp_c\\': 16.1, \\'temp_f\\': 61.0, \\'is_day\\': 0, \\'condition\\': {\\'text\\': \\'Overcast\\', \\'icon\\': \\'//cdn.weatherapi.com/weather/64x64/night/122.png\\', \\'code\\': 1009}, \\'wind_mph\\': 21.9, \\'wind_kph\\': 35.3, \\'wind_degree\\': 178, \\'wind_dir\\': \\'S\\', \\'pressure_mb\\': 1010.0, \\'pressure_in\\': 29.81, \\'precip_mm\\': 0.0, \\'precip_in\\': 0.0, \\'humidity\\': 67, \\'cloud\\': 100, \\'feelslike_c\\': 16.1, \\'feelslike_f\\': 61.0, \\'windchill_c\\': 10.4, \\'windchill_f\\': 50.6, \\'heatindex_c\\': 12.6, \\'heatindex_f\\': 54.7, \\'dewpoint_c\\': 11.1, \\'dewpoint_f\\': 51.9, \\'vis_km\\': 16.0, \\'vis_miles\\': 9.0, \\'uv\\': 0.0, \\'gust_mph\\': 33.4, \\'gust_kph\\': 53.7}}\"}, {\\'url\\': \\'https://world-weather.info/forecast/usa/san_francisco/april-2025/\\', \\'content\\': \"Weather in San Francisco in April 2025 (California) - Detailed Weather Forecast for a Month Weather World Weather in San Francisco Weather in San Francisco in April 2025 San Francisco Weather Forecast for April 2025, is based on previous years\\' statistical data. +61°+52° +61°+52° +59°+50° +59°+52° +63°+52° +61°+52° +61°+52° +59°+50° +61°+52° +61°+52° +61°+54° +61°+52° +61°+52° +59°+50° +61°+52° +61°+52° +61°+52° +63°+54° +63°+54° +63°+54° +64°+54° +63°+54° +63°+54° +63°+54° +63°+54° +64°+54° +64°+54° +64°+54° +63°+54° +63°+54° Extended weather forecast in San Francisco HourlyWeek10-Day14-Day30-DayYear Weather in large and nearby cities Weather in Washington, D.C.+30° Sacramento+52° Pleasanton+52° Redwood City+54° San Leandro+54° San Mateo+54° San Rafael+50° San Ramon+50° South San Francisco+54° Vallejo+52° Palo Alto+52° Pacifica+52° Berkeley+52° Castro Valley+54° Concord+54° Daly City+52° Tiburon+50° Newport+52° world\\'s temperature today day day Temperature units\"}]', name='tavily_search_results_json', tool_call_id='hvwiJspLY'),\n",
              "  AIMessage(content='The current weather in San Francisco is overcast with a temperature of 16.1°C (61.0°F). The wind is blowing from the south at 21.9 mph (35.3 km/h), with gusts up to 33.4 mph (53.7 km/h). The humidity is 67%, and the pressure is 1010.0 mb (29.81 in). There is no precipitation at the moment. The visibility is 16.0 km (9.0 miles), and the UV index is 0.0. The dew point is 11.1°C (51.9°F), and the heat index is 12.6°C (54.7°F). The wind chill is 10.4°C (50.6°F). The last update was at 2025-02-03 18:00 local time.\\n\\nFor April 2025, the weather in San Francisco is expected to be mild, with temperatures ranging from 50°F to 64°F. The average high temperature will be around 61°F, and the average low temperature will be around 52°F. The weather is expected to be mostly clear, with some cloudy days and a few days with light rain. The average humidity will be around 70%, and the average wind speed will be around 10 mph. The weather is expected to be similar to previous years, with no major weather events predicted.\\n\\nFor the extended forecast, the weather in San Francisco is expected to be mostly clear, with some cloudy days and a few days with light rain. The average high temperature will be around 61°F, and the average low temperature will be around 52°F. The average humidity will be around 70%, and the average wind speed will be around 10 mph. The weather is expected to be similar to previous years, with no major weather events predicted.', additional_kwargs={}, response_metadata={'token_usage': {'prompt_tokens': 1268, 'total_tokens': 1719, 'completion_tokens': 451}, 'model': 'mistral-large-latest', 'finish_reason': 'stop'}, id='run-f581ae66-82af-4703-b669-ddf2eb80debd-0', usage_metadata={'input_tokens': 1268, 'output_tokens': 451, 'total_tokens': 1719})]}"
            ]
          },
          "metadata": {},
          "execution_count": 33
        }
      ]
    },
    {
      "cell_type": "code",
      "source": [
        "result['messages'][-1].content"
      ],
      "metadata": {
        "colab": {
          "base_uri": "https://localhost:8080/",
          "height": 161
        },
        "id": "bN0YEmDZrpyc",
        "outputId": "3188fa87-f597-46f5-9d39-2d49e3cba35d"
      },
      "execution_count": 34,
      "outputs": [
        {
          "output_type": "execute_result",
          "data": {
            "text/plain": [
              "'The current weather in San Francisco is overcast with a temperature of 16.1°C (61.0°F). The wind is blowing from the south at 21.9 mph (35.3 km/h), with gusts up to 33.4 mph (53.7 km/h). The humidity is 67%, and the pressure is 1010.0 mb (29.81 in). There is no precipitation at the moment. The visibility is 16.0 km (9.0 miles), and the UV index is 0.0. The dew point is 11.1°C (51.9°F), and the heat index is 12.6°C (54.7°F). The wind chill is 10.4°C (50.6°F). The last update was at 2025-02-03 18:00 local time.\\n\\nFor April 2025, the weather in San Francisco is expected to be mild, with temperatures ranging from 50°F to 64°F. The average high temperature will be around 61°F, and the average low temperature will be around 52°F. The weather is expected to be mostly clear, with some cloudy days and a few days with light rain. The average humidity will be around 70%, and the average wind speed will be around 10 mph. The weather is expected to be similar to previous years, with no major weather events predicted.\\n\\nFor the extended forecast, the weather in San Francisco is expected to be mostly clear, with some cloudy days and a few days with light rain. The average high temperature will be around 61°F, and the average low temperature will be around 52°F. The average humidity will be around 70%, and the average wind speed will be around 10 mph. The weather is expected to be similar to previous years, with no major weather events predicted.'"
            ],
            "application/vnd.google.colaboratory.intrinsic+json": {
              "type": "string"
            }
          },
          "metadata": {},
          "execution_count": 34
        }
      ]
    },
    {
      "cell_type": "code",
      "source": [
        "messages = [HumanMessage(content=\"What is the weather in SF and LA?\")]\n",
        "result = abot.graph.invoke({\"messages\": messages})"
      ],
      "metadata": {
        "colab": {
          "base_uri": "https://localhost:8080/"
        },
        "id": "Lj0X5eTxrp1x",
        "outputId": "2006625f-559a-48f1-bbc7-5a9b22d4a038"
      },
      "execution_count": 35,
      "outputs": [
        {
          "output_type": "stream",
          "name": "stdout",
          "text": [
            "Calling: {'name': 'tavily_search_results_json', 'args': {'query': 'What is the weather in SF?'}, 'id': 'fi8YMxBcu', 'type': 'tool_call'}\n",
            "Calling: {'name': 'tavily_search_results_json', 'args': {'query': 'What is the weather in LA?'}, 'id': 'MVVOvJJuz', 'type': 'tool_call'}\n",
            "Back to model!\n"
          ]
        }
      ]
    },
    {
      "cell_type": "code",
      "source": [
        "result['messages'][-1].content"
      ],
      "metadata": {
        "colab": {
          "base_uri": "https://localhost:8080/",
          "height": 53
        },
        "id": "X-TpwkNXrp4p",
        "outputId": "be7ba627-c5c8-4ce3-efdd-158619f361f4"
      },
      "execution_count": 36,
      "outputs": [
        {
          "output_type": "execute_result",
          "data": {
            "text/plain": [
              "'The weather in San Francisco is overcast with a temperature of 61.0°F (16.1°C) and wind speeds of 21.7 mph (34.9 km/h). The weather in Los Angeles is clear with a temperature of 64.4°F (18.0°C) and wind speeds of 7.8 mph (12.6 km/h).'"
            ],
            "application/vnd.google.colaboratory.intrinsic+json": {
              "type": "string"
            }
          },
          "metadata": {},
          "execution_count": 36
        }
      ]
    },
    {
      "cell_type": "code",
      "source": [
        "# Note, the query was modified to produce more consistent results.\n",
        "# Results may vary per run and over time as search information and models change.\n",
        "\n",
        "query = \"Who won the super bowl in 2024? In what state is the winning team headquarters located? \\\n",
        "What is the GDP of that state? Answer each question.\"\n",
        "messages = [HumanMessage(content=query)]\n",
        "\n",
        "result = abot.graph.invoke({\"messages\": messages})"
      ],
      "metadata": {
        "colab": {
          "base_uri": "https://localhost:8080/"
        },
        "id": "VqyKd4pcr8tV",
        "outputId": "ec4c64f4-43cd-4ebc-ec98-3418ab217568"
      },
      "execution_count": 37,
      "outputs": [
        {
          "output_type": "stream",
          "name": "stdout",
          "text": [
            "Calling: {'name': 'tavily_search_results_json', 'args': {'query': 'Who won the super bowl in 2024'}, 'id': 'sgK4LQFfe', 'type': 'tool_call'}\n",
            "Back to model!\n",
            "Calling: {'name': 'tavily_search_results_json', 'args': {'query': 'In what state is the Kansas City Chiefs headquarters located?'}, 'id': 'a0AM32eQH', 'type': 'tool_call'}\n",
            "Back to model!\n",
            "Calling: {'name': 'tavily_search_results_json', 'args': {'query': 'What is the GDP of Missouri?'}, 'id': 'DJdlaXFL5', 'type': 'tool_call'}\n",
            "Back to model!\n"
          ]
        }
      ]
    },
    {
      "cell_type": "code",
      "source": [
        "print(result['messages'][-1].content)"
      ],
      "metadata": {
        "colab": {
          "base_uri": "https://localhost:8080/"
        },
        "id": "wBNp2YASsL_t",
        "outputId": "f576a8ac-270f-4674-e125-1e052866ba43"
      },
      "execution_count": 38,
      "outputs": [
        {
          "output_type": "stream",
          "name": "stdout",
          "text": [
            "**The Kansas City Chiefs won the Super Bowl in 2024**. The Kansas City Chiefs headquarters is located in Kansas City, Missouri. The GDP of Missouri is $344.12 billion USD.\n"
          ]
        }
      ]
    }
  ]
}